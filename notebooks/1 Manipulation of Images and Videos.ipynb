{
 "cells": [
  {
   "cell_type": "code",
   "execution_count": 1,
   "metadata": {},
   "outputs": [
    {
     "name": "stdout",
     "output_type": "stream",
     "text": [
      "4.0.0\n"
     ]
    }
   ],
   "source": [
    "# Importing the modules\n",
    "\n",
    "import numpy as np\n",
    "import os\n",
    "import math\n",
    "import matplotlib.pyplot as plt\n",
    "%matplotlib inline\n",
    "import cv2\n",
    "print(cv2.__version__)"
   ]
  },
  {
   "cell_type": "code",
   "execution_count": 3,
   "metadata": {},
   "outputs": [
    {
     "name": "stdout",
     "output_type": "stream",
     "text": [
      "False\n"
     ]
    }
   ],
   "source": [
    "# Lets Take A picture\n",
    "\n",
    "webcam = cv2.VideoCapture(0)\n",
    "ret , frame = webcam.read()\n",
    "print(ret)\n",
    "webcam.release() # Release the webcam"
   ]
  },
  {
   "cell_type": "code",
   "execution_count": null,
   "metadata": {},
   "outputs": [],
   "source": [
    "# How to show it \n",
    "\n",
    "# Open a new Thread to manage the external cv2 interaction\n",
    "cv2.startWindowThread()\n",
    "\n",
    "# Create a Window Folder to hold your image in \n",
    "cv2.namedWindow('Face Recon',cv2.WINDOW_AUTOSIZE)\n",
    "cv2.imshow('Face Recon',frame)\n",
    "\n",
    "# Press any key to close the external window\n",
    "cv2.waitKey()\n",
    "cv2.destroyAllWindows()"
   ]
  },
  {
   "cell_type": "code",
   "execution_count": null,
   "metadata": {},
   "outputs": [],
   "source": [
    "# Frame is a numpy array\n",
    "\n",
    "print(type(frame))"
   ]
  },
  {
   "cell_type": "code",
   "execution_count": null,
   "metadata": {},
   "outputs": [],
   "source": [
    "plt.imshow(frame)\n",
    "plt.show()"
   ]
  },
  {
   "cell_type": "code",
   "execution_count": null,
   "metadata": {},
   "outputs": [],
   "source": [
    "# From BGR to RGB format\n",
    "\n",
    "frame_RGB = cv2.cvtColor(frame,cv2.COLOR_BGR2RGB)\n",
    "\n",
    "plt.imshow(frame_RGB)\n",
    "\n",
    "plt.axis(\"off\")\n",
    "plt.show()"
   ]
  },
  {
   "cell_type": "code",
   "execution_count": null,
   "metadata": {},
   "outputs": [],
   "source": [
    "# Read and Write Images\n",
    "\n",
    "cv2.imwrite('images/picture_GBR.jpg',frame)\n",
    "cv2.imwrite('images/picture_RGB.jpg',frame_RGB)\n",
    "\n",
    "os.system('nautilus Images')\n"
   ]
  },
  {
   "cell_type": "code",
   "execution_count": null,
   "metadata": {},
   "outputs": [],
   "source": [
    "read_mode = 1\n",
    "picture_GBR = cv2.imread('images/picture_GBR.jpg',read_mode)\n",
    "picture_RGB = cv2.imread('images/picture_RGB.jpg',read_mode)\n",
    "\n",
    "picture = np.hstack((picture_GBR,picture_RGB))\n",
    "plt.axis('off')\n",
    "plt.title('GBR  RGB')\n",
    "plt.imshow(picture,cmap='Greys_r')\n",
    "plt.show()"
   ]
  },
  {
   "cell_type": "code",
   "execution_count": null,
   "metadata": {},
   "outputs": [],
   "source": [
    "# Useful Function\n",
    "\n",
    "def plt_show(image,title = ''):\n",
    "    if len(image.shape) == 3:\n",
    "        image = cv2.cvtColor(image,cv2.COLOR_BGR2RGB)\n",
    "    plt.axis(\"off\")\n",
    "    plt.title(title)\n",
    "    plt.imshow(image, cmap= 'Greys_r')\n",
    "    plt.show()"
   ]
  },
  {
   "cell_type": "code",
   "execution_count": null,
   "metadata": {},
   "outputs": [],
   "source": [
    "# Lets take a Video\n",
    "\n",
    "# Open connection to Camera \n",
    "\n",
    "webcam = cv2.VideoCapture(0)\n",
    "print(webcam.isOpened())"
   ]
  },
  {
   "cell_type": "code",
   "execution_count": null,
   "metadata": {},
   "outputs": [],
   "source": [
    "# How to show it \n",
    "\n",
    "cv2.namedWindow(\"Face Recon\", cv2.WINDOW_NORMAL)\n",
    " \n",
    "while True:\n",
    "      \n",
    "    _, frame = webcam.read()\n",
    "    cv2.imshow(\"Face Recon\", frame) \n",
    "     \n",
    "    # code 27 is ESC key\n",
    "    if cv2.waitKey(20) & 0xFF == 27:\n",
    "        break\n",
    "        \n",
    "cv2.destroyAllWindows() "
   ]
  },
  {
   "cell_type": "code",
   "execution_count": null,
   "metadata": {},
   "outputs": [],
   "source": [
    "# Module to allow interactive window is inside notebook\n",
    "\n",
    "from IPython.display import clear_output\n",
    "try: \n",
    "    while True:\n",
    "        _, frame = webcam.read()\n",
    "        plt_show(frame)\n",
    "        clear_output(wait=True)\n",
    "except KeyboardInterrupt:\n",
    "    print(\"Live Video Interrupted\")\n",
    "        "
   ]
  },
  {
   "cell_type": "code",
   "execution_count": null,
   "metadata": {},
   "outputs": [],
   "source": [
    "webcam.release()"
   ]
  },
  {
   "cell_type": "code",
   "execution_count": null,
   "metadata": {},
   "outputs": [],
   "source": [
    "webcam = cv2.VideoCapture(0)\n",
    "cv2.namedWindow = (\"Face Recon\",cv2.WINDOW_AUTOSIZE)\n",
    "message = \"\"\n",
    "\n",
    "while webcam.isOpened():\n",
    "    _, frame = webcam.read()\n",
    "    cv2.rectangle(frame, (100,100),(530,400),(150,150,0),3)\n",
    "    cv2.putText(frame,message,(95,95),cv2.FONT_HERSHEY_SIMPLEX, .7,(150,150,0),2)\n",
    "    \n",
    "    cv2.imshow('Face Recon',frame)\n",
    "    key = cv2.waitKey(100) & 0xFF \n",
    "    if key not in [255,27]:\n",
    "        message += chr(key)\n",
    "    elif key == 27:\n",
    "        break\n",
    "# Release Both the video objects created\n",
    "\n",
    "webcam.release()\n",
    "cv2.destroyAllWindows()"
   ]
  },
  {
   "cell_type": "code",
   "execution_count": null,
   "metadata": {
    "scrolled": true
   },
   "outputs": [],
   "source": [
    "# View Through a Circle\n",
    "\n",
    "webcam = cv2.VideoCapture(0)\n",
    "cv2.namedWindow = ('Face Recon',cv2.WINDOW_AUTOSIZE)\n",
    "\n",
    "while webcam.isOpened():\n",
    "    _, frame = webcam.read()\n",
    "    mask = np.zeros_like(frame)\n",
    "    height , width, _ = frame.shape\n",
    "\n",
    "    width_new = int(width/2)\n",
    "    height_new = int(height/2)\n",
    "    \n",
    "    cv2.circle(mask, (width_new , height_new), 200, (255,255,255), -1)\n",
    "    frame = np.bitwise_and(frame,mask)\n",
    "    \n",
    "    cv2.imshow('Face Recon',frame)\n",
    "    if cv2.waitKey(20) & 0xFF == 27:\n",
    "          break\n",
    "\n",
    "# Release both the video objects created\n",
    "\n",
    "webcam.release()\n",
    "cv2.destroyAllWindows()"
   ]
  },
  {
   "cell_type": "code",
   "execution_count": null,
   "metadata": {},
   "outputs": [],
   "source": [
    "# # Handling Mouse Events\n",
    "\n",
    "# # mouse callback function\n",
    "# def draw_circle(event,x,y,flags,param):\n",
    "#     global x_in, y_in\n",
    "#     if event == cv2.EVENT_LBUTTONDOWN:\n",
    "#         x_in = x \n",
    "#         y_in = y\n",
    "#     elif event == cv2.EVENT_LBUTTONUP:\n",
    "#         cv2.circle(frame, (int((x + x_in)) / 2, int((y + y_in)/2)), \n",
    "#                    int(math.sqrt((y - y_in) ** 2 + (x - x_in) ** 2) / 2), (150, 150, 0), -1)\n",
    "        \n",
    "# # cv2.namedWindow('PyData Tutorial')\n",
    "# cv2.setMouseCallback('PyData Tutorial', draw_circle)\n",
    "\n",
    "# webcam = cv2.VideoCapture(0)\n",
    "# _, frame = webcam.read()\n",
    "# webcam.release()\n",
    "\n",
    "# while True:\n",
    "#     cv2.imshow('PyData Tutorial',frame)\n",
    "#     if cv2.waitKey(20) & 0xFF == 27:\n",
    "#         break\n",
    "# cv2.destroyAllWindows()\n"
   ]
  },
  {
   "cell_type": "code",
   "execution_count": null,
   "metadata": {},
   "outputs": [],
   "source": []
  }
 ],
 "metadata": {
  "kernelspec": {
   "display_name": "Python 3",
   "language": "python",
   "name": "python3"
  },
  "language_info": {
   "codemirror_mode": {
    "name": "ipython",
    "version": 3
   },
   "file_extension": ".py",
   "mimetype": "text/x-python",
   "name": "python",
   "nbconvert_exporter": "python",
   "pygments_lexer": "ipython3",
   "version": "3.6.8"
  }
 },
 "nbformat": 4,
 "nbformat_minor": 2
}
